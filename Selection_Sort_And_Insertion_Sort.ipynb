{
 "cells": [
  {
   "cell_type": "markdown",
   "id": "7787e1ef",
   "metadata": {},
   "source": [
    "## Selection Sort\n",
    "- The idea is that there are two iterators\n",
    "    - Current element (C)\n",
    "    - Current Minima (M)\n",
    "- Keep iterating the list with M, in the last if the C > M, then swap\n",
    "- Only swap when iterated over the entire list"
   ]
  },
  {
   "cell_type": "code",
   "execution_count": 7,
   "id": "c86af7b0",
   "metadata": {},
   "outputs": [
    {
     "name": "stdout",
     "output_type": "stream",
     "text": [
      "The updated list after 0th iteration is: [2, 8, 5, 3, 9, 4, 1]\n",
      "The updated list after 1th iteration is: [2, 8, 5, 3, 9, 4, 1]\n",
      "The updated list after 2th iteration is: [2, 8, 5, 3, 9, 4, 1]\n",
      "The updated list after 3th iteration is: [2, 8, 5, 3, 9, 4, 1]\n",
      "The updated list after 4th iteration is: [2, 8, 5, 3, 9, 4, 1]\n",
      "The updated list after 5th iteration is: [2, 8, 5, 3, 9, 4, 1]\n",
      "The updated list after 6th iteration is: [1, 8, 5, 3, 9, 4, 2]\n",
      "------------------------------\n",
      "The updated list after 1th iteration is: [1, 8, 5, 3, 9, 4, 2]\n",
      "The updated list after 2th iteration is: [1, 5, 8, 3, 9, 4, 2]\n",
      "The updated list after 3th iteration is: [1, 3, 8, 5, 9, 4, 2]\n",
      "The updated list after 4th iteration is: [1, 3, 8, 5, 9, 4, 2]\n",
      "The updated list after 5th iteration is: [1, 3, 8, 5, 9, 4, 2]\n",
      "The updated list after 6th iteration is: [1, 2, 8, 5, 9, 4, 3]\n",
      "------------------------------\n",
      "The updated list after 2th iteration is: [1, 2, 8, 5, 9, 4, 3]\n",
      "The updated list after 3th iteration is: [1, 2, 5, 8, 9, 4, 3]\n",
      "The updated list after 4th iteration is: [1, 2, 5, 8, 9, 4, 3]\n",
      "The updated list after 5th iteration is: [1, 2, 4, 8, 9, 5, 3]\n",
      "The updated list after 6th iteration is: [1, 2, 3, 8, 9, 5, 4]\n",
      "------------------------------\n",
      "The updated list after 3th iteration is: [1, 2, 3, 8, 9, 5, 4]\n",
      "The updated list after 4th iteration is: [1, 2, 3, 8, 9, 5, 4]\n",
      "The updated list after 5th iteration is: [1, 2, 3, 5, 9, 8, 4]\n",
      "The updated list after 6th iteration is: [1, 2, 3, 4, 9, 8, 5]\n",
      "------------------------------\n",
      "The updated list after 4th iteration is: [1, 2, 3, 4, 9, 8, 5]\n",
      "The updated list after 5th iteration is: [1, 2, 3, 4, 8, 9, 5]\n",
      "The updated list after 6th iteration is: [1, 2, 3, 4, 5, 9, 8]\n",
      "------------------------------\n",
      "The updated list after 5th iteration is: [1, 2, 3, 4, 5, 9, 8]\n",
      "The updated list after 6th iteration is: [1, 2, 3, 4, 5, 8, 9]\n",
      "------------------------------\n",
      "The updated list after 6th iteration is: [1, 2, 3, 4, 5, 8, 9]\n",
      "------------------------------\n"
     ]
    }
   ],
   "source": [
    "a = [2,8,5,3,9,4,1]\n",
    "\n",
    "## Setting up the iterators correctly\n",
    "# for c in range(len(a)):\n",
    "#     print(f\"Value of c: {c}\")\n",
    "#     for m in range(c, len(a)):\n",
    "#         print(f\"Value of m: {m}\")\n",
    "#     print('-'*30)\n",
    "        \n",
    "\n",
    "for c in range(len(a)):\n",
    "    for m in range(c, len(a)):\n",
    "        if a[c] > a[m]:\n",
    "            a[m],a[c] = a[c],a[m]\n",
    "        print(f\"The updated list after {m}th iteration is: {a}\")\n",
    "    print('-'*30)\n",
    "\n",
    "\"\"\"\n",
    "The above approach sorts the list, but it is NOT selection sort, it should \n",
    "swap only after iterating the entire list.\n",
    "\"\"\""
   ]
  },
  {
   "cell_type": "markdown",
   "id": "2ff662c7",
   "metadata": {},
   "source": [
    "### Corrected Logic\n",
    "- Iterate over the entire loop before making the swap\n",
    "- Index of the minima is tracked which is then swapped\n",
    "- for 1st loop: len(a) -1 because i (current element) will be swapped if by the time c reached the last item, hence no need to check for the last element\n",
    "- for 2nd loop start from i+1 to len(a) ->  because left hand side of list will have the minimum of remaining list in each iteration"
   ]
  },
  {
   "cell_type": "code",
   "execution_count": 28,
   "id": "a36307a4",
   "metadata": {},
   "outputs": [
    {
     "name": "stdout",
     "output_type": "stream",
     "text": [
      "The updated list after 0th iteration is: [1, 8, 5, 3, 9, 4, 2]\n",
      "------------------------------\n",
      "The updated list after 1th iteration is: [1, 2, 5, 3, 9, 4, 8]\n",
      "------------------------------\n",
      "The updated list after 2th iteration is: [1, 2, 3, 5, 9, 4, 8]\n",
      "------------------------------\n",
      "The updated list after 3th iteration is: [1, 2, 3, 4, 9, 5, 8]\n",
      "------------------------------\n",
      "The updated list after 4th iteration is: [1, 2, 3, 4, 5, 9, 8]\n",
      "------------------------------\n",
      "The updated list after 5th iteration is: [1, 2, 3, 4, 5, 8, 9]\n",
      "------------------------------\n"
     ]
    }
   ],
   "source": [
    "a = [2,8,5,3,9,4,1]\n",
    "\n",
    "for i in range(len(a) -1):\n",
    "    min_index = i\n",
    "    \n",
    "    for j in range(i+1, len(a)):\n",
    "        if a[min_index] > a[j]:\n",
    "            min_index = j\n",
    "    \n",
    "    if min_index != i:\n",
    "        a[min_index], a[i] = a[i], a[min_index]\n",
    "        print(f\"The updated list after {i}th iteration is: {a}\")\n",
    "        \n",
    "    print('-'*30)"
   ]
  },
  {
   "cell_type": "markdown",
   "id": "83fb6d17",
   "metadata": {},
   "source": [
    "## Creating a function of Selection Sort\n",
    "- Time Complexities:\n",
    "    - O(n^2)\n",
    "    - Omega(n^2)"
   ]
  },
  {
   "cell_type": "code",
   "execution_count": 29,
   "id": "28a20340",
   "metadata": {},
   "outputs": [
    {
     "name": "stdout",
     "output_type": "stream",
     "text": [
      "The list [3,7,8,9,1,0,6] is sorted to: [0, 1, 3, 6, 7, 8, 9]\n",
      "The list [5,1,2,4,7,3] is sorted to: [1, 2, 3, 4, 5, 7]\n",
      "The list [9,8,7,6,5,4,3,2,1] is sorted to: [1, 2, 3, 4, 5, 6, 7, 8, 9]\n"
     ]
    }
   ],
   "source": [
    "def selection_sort(a):\n",
    "    for i in range(len(a)-1):\n",
    "        min_index = i\n",
    "        for j in range(i+1, len(a)):\n",
    "            if a[min_index] > a[j]:\n",
    "                min_index = j\n",
    "            \n",
    "        if min_index != i:\n",
    "            a[i], a[min_index] = a[min_index], a[i]\n",
    "    return a\n",
    "\n",
    "## Examples\n",
    "print(f\"The list [3,7,8,9,1,0,6] is sorted to: {selection_sort([3,7,8,9,1,0,6])}\")\n",
    "print(f\"The list [5,1,2,4,7,3] is sorted to: {selection_sort([5,1,2,4,7,3])}\")\n",
    "print(f\"The list [9,8,7,6,5,4,3,2,1] is sorted to: {selection_sort([9,8,7,6,5,4,3,2,1])}\")"
   ]
  },
  {
   "cell_type": "code",
   "execution_count": null,
   "id": "8f4c6e34",
   "metadata": {},
   "outputs": [],
   "source": []
  }
 ],
 "metadata": {
  "kernelspec": {
   "display_name": "Python 3 (ipykernel)",
   "language": "python",
   "name": "python3"
  },
  "language_info": {
   "codemirror_mode": {
    "name": "ipython",
    "version": 3
   },
   "file_extension": ".py",
   "mimetype": "text/x-python",
   "name": "python",
   "nbconvert_exporter": "python",
   "pygments_lexer": "ipython3",
   "version": "3.11.3"
  }
 },
 "nbformat": 4,
 "nbformat_minor": 5
}

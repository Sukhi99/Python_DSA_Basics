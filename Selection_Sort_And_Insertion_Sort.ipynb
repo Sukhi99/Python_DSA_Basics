{
 "cells": [
  {
   "cell_type": "markdown",
   "id": "199e3be2",
   "metadata": {},
   "source": [
    "## Selection Sort\n",
    "- The idea is that there are two iterators\n",
    "    - Current element (C)\n",
    "    - Current Minima (M)\n",
    "- Keep iterating the list with M, in the last if the C > M, then swap\n",
    "- Only swap when iterated over the entire list"
   ]
  },
  {
   "cell_type": "code",
   "execution_count": 7,
   "id": "7f83f20a",
   "metadata": {},
   "outputs": [
    {
     "name": "stdout",
     "output_type": "stream",
     "text": [
      "The updated list after 0th iteration is: [2, 8, 5, 3, 9, 4, 1]\n",
      "The updated list after 1th iteration is: [2, 8, 5, 3, 9, 4, 1]\n",
      "The updated list after 2th iteration is: [2, 8, 5, 3, 9, 4, 1]\n",
      "The updated list after 3th iteration is: [2, 8, 5, 3, 9, 4, 1]\n",
      "The updated list after 4th iteration is: [2, 8, 5, 3, 9, 4, 1]\n",
      "The updated list after 5th iteration is: [2, 8, 5, 3, 9, 4, 1]\n",
      "The updated list after 6th iteration is: [1, 8, 5, 3, 9, 4, 2]\n",
      "------------------------------\n",
      "The updated list after 1th iteration is: [1, 8, 5, 3, 9, 4, 2]\n",
      "The updated list after 2th iteration is: [1, 5, 8, 3, 9, 4, 2]\n",
      "The updated list after 3th iteration is: [1, 3, 8, 5, 9, 4, 2]\n",
      "The updated list after 4th iteration is: [1, 3, 8, 5, 9, 4, 2]\n",
      "The updated list after 5th iteration is: [1, 3, 8, 5, 9, 4, 2]\n",
      "The updated list after 6th iteration is: [1, 2, 8, 5, 9, 4, 3]\n",
      "------------------------------\n",
      "The updated list after 2th iteration is: [1, 2, 8, 5, 9, 4, 3]\n",
      "The updated list after 3th iteration is: [1, 2, 5, 8, 9, 4, 3]\n",
      "The updated list after 4th iteration is: [1, 2, 5, 8, 9, 4, 3]\n",
      "The updated list after 5th iteration is: [1, 2, 4, 8, 9, 5, 3]\n",
      "The updated list after 6th iteration is: [1, 2, 3, 8, 9, 5, 4]\n",
      "------------------------------\n",
      "The updated list after 3th iteration is: [1, 2, 3, 8, 9, 5, 4]\n",
      "The updated list after 4th iteration is: [1, 2, 3, 8, 9, 5, 4]\n",
      "The updated list after 5th iteration is: [1, 2, 3, 5, 9, 8, 4]\n",
      "The updated list after 6th iteration is: [1, 2, 3, 4, 9, 8, 5]\n",
      "------------------------------\n",
      "The updated list after 4th iteration is: [1, 2, 3, 4, 9, 8, 5]\n",
      "The updated list after 5th iteration is: [1, 2, 3, 4, 8, 9, 5]\n",
      "The updated list after 6th iteration is: [1, 2, 3, 4, 5, 9, 8]\n",
      "------------------------------\n",
      "The updated list after 5th iteration is: [1, 2, 3, 4, 5, 9, 8]\n",
      "The updated list after 6th iteration is: [1, 2, 3, 4, 5, 8, 9]\n",
      "------------------------------\n",
      "The updated list after 6th iteration is: [1, 2, 3, 4, 5, 8, 9]\n",
      "------------------------------\n"
     ]
    }
   ],
   "source": [
    "a = [2,8,5,3,9,4,1]\n",
    "\n",
    "## Setting up the iterators correctly\n",
    "# for c in range(len(a)):\n",
    "#     print(f\"Value of c: {c}\")\n",
    "#     for m in range(c, len(a)):\n",
    "#         print(f\"Value of m: {m}\")\n",
    "#     print('-'*30)\n",
    "        \n",
    "\n",
    "for c in range(len(a)):\n",
    "    for m in range(c, len(a)):\n",
    "        if a[c] > a[m]:\n",
    "            a[m],a[c] = a[c],a[m]\n",
    "        print(f\"The updated list after {m}th iteration is: {a}\")\n",
    "    print('-'*30)\n",
    "\n",
    "\"\"\"\n",
    "The above approach sorts the list, but it is NOT selection sort, it should \n",
    "swap only after iterating the entire list.\n",
    "\"\"\""
   ]
  },
  {
   "cell_type": "markdown",
   "id": "6f34261f",
   "metadata": {},
   "source": [
    "### Corrected Logic\n",
    "- Iterate over the entire loop before making the swap\n",
    "- Index of the minima is tracked which is then swapped\n",
    "- for 1st loop: len(a) -1 because i (current element) will be swapped if by the time c reached the last item, hence no need to check for the last element\n",
    "- for 2nd loop start from i+1 to len(a) ->  because left hand side of list will have the minimum of remaining list in each iteration"
   ]
  },
  {
   "cell_type": "code",
   "execution_count": 28,
   "id": "358c4990",
   "metadata": {},
   "outputs": [
    {
     "name": "stdout",
     "output_type": "stream",
     "text": [
      "The updated list after 0th iteration is: [1, 8, 5, 3, 9, 4, 2]\n",
      "------------------------------\n",
      "The updated list after 1th iteration is: [1, 2, 5, 3, 9, 4, 8]\n",
      "------------------------------\n",
      "The updated list after 2th iteration is: [1, 2, 3, 5, 9, 4, 8]\n",
      "------------------------------\n",
      "The updated list after 3th iteration is: [1, 2, 3, 4, 9, 5, 8]\n",
      "------------------------------\n",
      "The updated list after 4th iteration is: [1, 2, 3, 4, 5, 9, 8]\n",
      "------------------------------\n",
      "The updated list after 5th iteration is: [1, 2, 3, 4, 5, 8, 9]\n",
      "------------------------------\n"
     ]
    }
   ],
   "source": [
    "a = [2,8,5,3,9,4,1]\n",
    "\n",
    "for i in range(len(a) -1):\n",
    "    min_index = i\n",
    "    \n",
    "    for j in range(i+1, len(a)):\n",
    "        if a[min_index] > a[j]:\n",
    "            min_index = j\n",
    "    \n",
    "    if min_index != i:\n",
    "        a[min_index], a[i] = a[i], a[min_index]\n",
    "        print(f\"The updated list after {i}th iteration is: {a}\")\n",
    "        \n",
    "    print('-'*30)"
   ]
  },
  {
   "cell_type": "markdown",
   "id": "77b63d7a",
   "metadata": {},
   "source": [
    "## Creating a function of Selection Sort\n",
    "- Time Complexities:\n",
    "    - O(n^2)\n",
    "    - Omega(n^2)"
   ]
  },
  {
   "cell_type": "code",
   "execution_count": 29,
   "id": "bfe09476",
   "metadata": {},
   "outputs": [
    {
     "name": "stdout",
     "output_type": "stream",
     "text": [
      "The list [3,7,8,9,1,0,6] is sorted to: [0, 1, 3, 6, 7, 8, 9]\n",
      "The list [5,1,2,4,7,3] is sorted to: [1, 2, 3, 4, 5, 7]\n",
      "The list [9,8,7,6,5,4,3,2,1] is sorted to: [1, 2, 3, 4, 5, 6, 7, 8, 9]\n"
     ]
    }
   ],
   "source": [
    "def selection_sort(a):\n",
    "    for i in range(len(a)-1):\n",
    "        min_index = i\n",
    "        for j in range(i+1, len(a)):\n",
    "            if a[min_index] > a[j]:\n",
    "                min_index = j\n",
    "            \n",
    "        if min_index != i:\n",
    "            a[i], a[min_index] = a[min_index], a[i]\n",
    "    return a\n",
    "\n",
    "## Examples\n",
    "print(f\"The list [3,7,8,9,1,0,6] is sorted to: {selection_sort([3,7,8,9,1,0,6])}\")\n",
    "print(f\"The list [5,1,2,4,7,3] is sorted to: {selection_sort([5,1,2,4,7,3])}\")\n",
    "print(f\"The list [9,8,7,6,5,4,3,2,1] is sorted to: {selection_sort([9,8,7,6,5,4,3,2,1])}\")"
   ]
  },
  {
   "cell_type": "markdown",
   "id": "791c4f8a",
   "metadata": {},
   "source": [
    "## Insertion Sort\n",
    "- The idea is that the list is seen as two parts and has a boundary\n",
    "    - Sorted part (left of boundary)\n",
    "    - Unsorted part (right of the boundary)\n",
    "- Pick the element in the unsorted part of the list and INSERT it into it right place (swap) in sorted part of the list\n",
    "- Shift the boudary by 1\n",
    "- If the element is < than the element in sorted part (iterate over the sorted part), then swap\n",
    "- If the element is > than the element in sorted part then stop, move the boundary by 1\n",
    "    - No need to compare the element with element -1 of sorted list as it is already sorted so any element to the left of the element in sorted list which is > insertion element (from unsorted part) will all be > than unsorted part element\n",
    "    \n",
    "### The Insertion sort is very popular\n",
    "- It is very good insertion algorithm as well\n",
    "- If the list is almost sorted then, only 1 iteration is required to insert the new element at it's right place\n",
    "- The comparisons will be more but loop iteration is only 1\n",
    "- Ex: Insert 2 in [1,3,4,5], here the comparisons will be 4 but only 1 iteration of the loop"
   ]
  },
  {
   "cell_type": "code",
   "execution_count": 16,
   "id": "ffd7e136",
   "metadata": {},
   "outputs": [
    {
     "name": "stdout",
     "output_type": "stream",
     "text": [
      "i value: 5\n",
      "j value: 4\n",
      "------------------------------\n",
      "i value: 1\n",
      "j value: 5\n",
      "j value: 4\n",
      "------------------------------\n",
      "i value: 3\n",
      "j value: 1\n",
      "j value: 5\n",
      "j value: 4\n",
      "------------------------------\n",
      "i value: 2\n",
      "j value: 3\n",
      "j value: 1\n",
      "j value: 5\n",
      "j value: 4\n",
      "------------------------------\n"
     ]
    }
   ],
   "source": [
    "a = [4,5,1,3,2]\n",
    "\n",
    "## Figuring out the looping to iterate properly\n",
    "for i in range(1, len(a)):\n",
    "    print(f\"i value: {a[i]}\")\n",
    "    for j in range(i-1, -1, -1):# start: i-1, to:-1 -> to go till 0th position, direction:-1, opposite direction\n",
    "        print(f\"j value: {a[j]}\")\n",
    "    \n",
    "    print(\"-\"*30)\n",
    "\n",
    "\n",
    "# for i in range(1, len(a)):\n",
    "#     index_to_insert = i\n",
    "#     j = i-1\n",
    "    \n",
    "#     while j >= 0:\n",
    "#         if a[j] < a[index_to_insert]:\n",
    "#             break\n",
    "#         else:\n",
    "#             a[index_to_insert], a[j] = a[j], a[index_to_insert]\n",
    "#             index_to_insert = j\n",
    "            \n",
    "            \n",
    "#     print(a)"
   ]
  },
  {
   "cell_type": "code",
   "execution_count": 24,
   "id": "46d3cd02",
   "metadata": {},
   "outputs": [
    {
     "name": "stdout",
     "output_type": "stream",
     "text": [
      "val_to_insert: 5\n",
      "val_to_compare: 4\n",
      "------------------------------\n",
      "val_to_insert: 1\n",
      "val_to_compare: 5\n",
      "[4, 1, 5, 3, 2]\n",
      "val_to_insert: 1\n",
      "val_to_compare: 4\n",
      "[1, 4, 5, 3, 2]\n",
      "------------------------------\n",
      "val_to_insert: 3\n",
      "val_to_compare: 5\n",
      "[1, 4, 3, 5, 2]\n",
      "val_to_insert: 3\n",
      "val_to_compare: 4\n",
      "[1, 3, 4, 5, 2]\n",
      "val_to_insert: 3\n",
      "val_to_compare: 1\n",
      "------------------------------\n",
      "val_to_insert: 2\n",
      "val_to_compare: 5\n",
      "[1, 3, 4, 2, 5]\n",
      "val_to_insert: 2\n",
      "val_to_compare: 4\n",
      "[1, 3, 2, 4, 5]\n",
      "val_to_insert: 2\n",
      "val_to_compare: 3\n",
      "[1, 2, 3, 4, 5]\n",
      "val_to_insert: 2\n",
      "val_to_compare: 1\n",
      "------------------------------\n",
      "[1, 2, 3, 4, 5]\n"
     ]
    }
   ],
   "source": [
    "a = [4,5,1,3,2]\n",
    "## Figuring out the looping to iterate properly\n",
    "for i in range(1, len(a)):\n",
    "    index_to_insert = i\n",
    "    \n",
    "    for j in range(i-1, -1, -1): # start: i-1, to:-1 -> to go till 0th position, direction:-1, opposite direction\n",
    "        print(f\"val_to_insert: {a[index_to_insert]}\")\n",
    "        print(f\"val_to_compare: {a[j]}\")\n",
    "        \n",
    "        if a[index_to_insert] < a[j]:\n",
    "            a[index_to_insert], a[j] = a[j], a[index_to_insert]\n",
    "            index_to_insert = j\n",
    "        else:\n",
    "            break\n",
    "        print(a)\n",
    "    \n",
    "    print(\"-\"*30)\n",
    "print(a)"
   ]
  },
  {
   "cell_type": "markdown",
   "id": "2b37ec9f",
   "metadata": {},
   "source": [
    "## Creating a function of Insertion Sort\n",
    "- Time Complexities:\n",
    "    - O(n^2)\n",
    "    - Omega(n)"
   ]
  },
  {
   "cell_type": "code",
   "execution_count": 25,
   "id": "15884974",
   "metadata": {},
   "outputs": [
    {
     "name": "stdout",
     "output_type": "stream",
     "text": [
      "The list [3,7,8,9,1,0,6] is sorted to: [0, 1, 3, 6, 7, 8, 9]\n",
      "The list [5,1,2,4,7,3] is sorted to: [1, 2, 3, 4, 5, 7]\n",
      "The list [9,8,7,6,5,4,3,2,1] is sorted to: [1, 2, 3, 4, 5, 6, 7, 8, 9]\n"
     ]
    }
   ],
   "source": [
    "## Better version with While loop - Cleaner\n",
    "\n",
    "a = [4,5,1,3,2]\n",
    "\n",
    "def insertion_sort(a):\n",
    "    for i in range(1,len(a)):\n",
    "        index_to_sort = i\n",
    "        j = i-1\n",
    "\n",
    "        while j >= 0:\n",
    "            if a[j] < a[index_to_sort]:\n",
    "                break\n",
    "            else:\n",
    "                a[j], a[index_to_sort] = a[index_to_sort], a[j]\n",
    "                index_to_sort = j\n",
    "                j -=1\n",
    "    return a\n",
    "\n",
    "\n",
    "## Examples\n",
    "print(f\"The list [3,7,8,9,1,0,6] is sorted to: {insertion_sort([3,7,8,9,1,0,6])}\")\n",
    "print(f\"The list [5,1,2,4,7,3] is sorted to: {insertion_sort([5,1,2,4,7,3])}\")\n",
    "print(f\"The list [9,8,7,6,5,4,3,2,1] is sorted to: {insertion_sort([9,8,7,6,5,4,3,2,1])}\")"
   ]
  },
  {
   "cell_type": "markdown",
   "id": "2744c653",
   "metadata": {},
   "source": [
    "### How is the Best Case Scenario is Omega(n)\n",
    "- Introduce the counter and calculate the iterations of outerloop + innerloop\n",
    "- If the array is sorted then innerloop (while) will break out everytime"
   ]
  },
  {
   "cell_type": "code",
   "execution_count": 31,
   "id": "9e8310b0",
   "metadata": {},
   "outputs": [
    {
     "name": "stdout",
     "output_type": "stream",
     "text": [
      "The list [3, 7, 8, 9, 1, 0, 6] is sorted to: [0, 1, 3, 6, 7, 8, 9] and Iteration Count is: 18\n",
      "The list [0, 1, 3, 6, 7, 8, 9] is sorted to: [0, 1, 3, 6, 7, 8, 9] and Iteration  Count is: 6\n"
     ]
    }
   ],
   "source": [
    "a = [4,5,1,3,2]\n",
    "\n",
    "def cool_insertion_sort(a):\n",
    "    counter = 0\n",
    "    for i in range(1,len(a)):\n",
    "        index_to_sort = i\n",
    "        j = i-1\n",
    "        counter += 1\n",
    "\n",
    "        while j >= 0:\n",
    "            if a[j] < a[index_to_sort]:\n",
    "                break\n",
    "            \n",
    "            else:\n",
    "                a[j], a[index_to_sort] = a[index_to_sort], a[j]\n",
    "                index_to_sort = j\n",
    "                j -=1\n",
    "            counter += 1\n",
    "    \n",
    "    return a,counter\n",
    "\n",
    "## Examples\n",
    "un_sort_list, un_sort_count = cool_insertion_sort([3, 7, 8, 9, 1, 0, 6])\n",
    "sort_list, sort_count = cool_insertion_sort([0, 1, 3, 6, 7, 8, 9])\n",
    "print(f\"The list [3, 7, 8, 9, 1, 0, 6] is sorted to: {un_sort_list} and Iteration Count is: {un_sort_count}\")\n",
    "print(f\"The list [0, 1, 3, 6, 7, 8, 9] is sorted to: {sort_list} and Iteration  Count is: {sort_count}\")"
   ]
  },
  {
   "cell_type": "code",
   "execution_count": null,
   "id": "a377ffa5",
   "metadata": {},
   "outputs": [],
   "source": []
  }
 ],
 "metadata": {
  "kernelspec": {
   "display_name": "Python 3 (ipykernel)",
   "language": "python",
   "name": "python3"
  },
  "language_info": {
   "codemirror_mode": {
    "name": "ipython",
    "version": 3
   },
   "file_extension": ".py",
   "mimetype": "text/x-python",
   "name": "python",
   "nbconvert_exporter": "python",
   "pygments_lexer": "ipython3",
   "version": "3.11.3"
  }
 },
 "nbformat": 4,
 "nbformat_minor": 5
}

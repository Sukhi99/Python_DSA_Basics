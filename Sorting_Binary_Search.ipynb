{
 "cells": [
  {
   "cell_type": "markdown",
   "id": "b811b579",
   "metadata": {},
   "source": [
    "## Searching: Looking for an element in a list\n",
    "- Generally, if the element is found then, it's index is returned\n",
    "- Generally, if the index is NOT found, then -1 is returned"
   ]
  },
  {
   "cell_type": "code",
   "execution_count": 3,
   "id": "d2d00971",
   "metadata": {},
   "outputs": [
    {
     "name": "stdout",
     "output_type": "stream",
     "text": [
      "Check if 1 present in list [9, 8, 5, 4, 1, 0]: -> 4\n",
      "Check if 1 present in list [1, 2, 3, 4, 5]: -> -1\n"
     ]
    }
   ],
   "source": [
    "## Linear Search\n",
    "def linear_search(a: list, target: int):\n",
    "    for index, elem in enumerate(a):\n",
    "        if elem == target:\n",
    "            return index\n",
    "    \n",
    "    return -1\n",
    "\n",
    "# Examples\n",
    "print(f\"Check if 1 present in list [9, 8, 5, 4, 1, 0]: -> {linear_search([9, 8, 5, 4, 1, 0], 1)}\")\n",
    "print(f\"Check if 1 present in list [1, 2, 3, 4, 5]: -> {linear_search([1, 2, 3, 4, 5], 9)}\")"
   ]
  },
  {
   "cell_type": "markdown",
   "id": "b925da3c",
   "metadata": {},
   "source": [
    "### Binary Search\n",
    "- Idea is of divide and conquer\n",
    "- Remeber we have 3 pointers to track indexes:\n",
    "    - start: at the start of the list\n",
    "    - end: at the end of the list\n",
    "    - mid: middle of the list -> (start+end)//2\n",
    "- Compare th target with mid,\n",
    "    - If mid > target, then element is present in left hand side (update end to mid)\n",
    "    - If mid < target, then element is present in right hand side (update start to mid)\n",
    "    - If mid == target, then send mid's index and break\n",
    "\n",
    "### Time Complexity :\n",
    "- O(logn)\n",
    "- Omega(Logn)"
   ]
  },
  {
   "cell_type": "code",
   "execution_count": 15,
   "id": "f6313316",
   "metadata": {},
   "outputs": [
    {
     "name": "stdout",
     "output_type": "stream",
     "text": [
      "Check if 4 present in list [0, 1, 2, 3, 4, 5, 6]: -> 4\n",
      "Check if 9 present in list [1, 2, 3, 4, 5]: -> -1\n"
     ]
    }
   ],
   "source": [
    "def binary_search(a: list, target: int):\n",
    "    (start, end) = (0, len(a)-1)\n",
    "#     print(f\"start = {start}\")\n",
    "#     print(f\"end = {end}\")\n",
    "    while start <= end:\n",
    "        mid = (start + end) // 2\n",
    "#         print(f\"mid = {mid}\")        \n",
    "        if target == a[mid]:\n",
    "            return mid\n",
    "        elif target < a[mid]:\n",
    "            end = mid - 1\n",
    "        else:\n",
    "            start = mid + 1     \n",
    "    \n",
    "    return -1\n",
    "        \n",
    "# Examples\n",
    "print(f\"Check if 4 present in list [0, 1, 2, 3, 4, 5, 6]: -> {binary_search([0, 1, 2, 3, 4, 5, 6], 4)}\")\n",
    "print(f\"Check if 9 present in list [1, 2, 3, 4, 5]: -> {binary_search([1, 2, 3, 4, 5], 9)}\")      "
   ]
  },
  {
   "cell_type": "markdown",
   "id": "216463f9",
   "metadata": {},
   "source": [
    "### Try out -> Binary Search that works on reverse sorted list"
   ]
  },
  {
   "cell_type": "code",
   "execution_count": 14,
   "id": "bdc5b941",
   "metadata": {},
   "outputs": [
    {
     "name": "stdout",
     "output_type": "stream",
     "text": [
      "Check if 4 present in list [6, 5, 4, 3, 2, 1]: -> 2\n",
      "Check if 1 present in list [5, 3, 2, 1, 0]: -> 3\n",
      "Check if 9 present in list [5, 3, 2, 1, 0]: -> -1\n"
     ]
    }
   ],
   "source": [
    "def rev_binary_search(a: list, target: int):\n",
    "    (start, end) = (0, len(a)-1)\n",
    "#     print(f\"start = {start}\")\n",
    "#     print(f\"end = {end}\")\n",
    "    while start <= end:\n",
    "        mid = (start + end) // 2\n",
    "#         print(f\"mid = {mid}\")        \n",
    "        if target == a[mid]:\n",
    "            return mid\n",
    "        elif target < a[mid]:\n",
    "            start = mid + 1 \n",
    "        else:\n",
    "            end = mid - 1\n",
    "                \n",
    "    \n",
    "    return -1\n",
    "        \n",
    "# Examples\n",
    "print(f\"Check if 4 present in list [6, 5, 4, 3, 2, 1]: -> {rev_binary_search([6, 5, 4, 3, 2, 1], 4)}\")\n",
    "print(f\"Check if 1 present in list [5, 3, 2, 1, 0]: -> {rev_binary_search([5,3,2,1,0], 1)}\") \n",
    "print(f\"Check if 9 present in list [5, 3, 2, 1, 0]: -> {rev_binary_search([5,3,2,1,0], 9)}\")  "
   ]
  },
  {
   "cell_type": "code",
   "execution_count": null,
   "id": "528c5c38",
   "metadata": {},
   "outputs": [],
   "source": []
  }
 ],
 "metadata": {
  "kernelspec": {
   "display_name": "Python 3 (ipykernel)",
   "language": "python",
   "name": "python3"
  },
  "language_info": {
   "codemirror_mode": {
    "name": "ipython",
    "version": 3
   },
   "file_extension": ".py",
   "mimetype": "text/x-python",
   "name": "python",
   "nbconvert_exporter": "python",
   "pygments_lexer": "ipython3",
   "version": "3.11.3"
  }
 },
 "nbformat": 4,
 "nbformat_minor": 5
}

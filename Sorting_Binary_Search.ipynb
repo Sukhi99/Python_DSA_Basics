{
 "cells": [
  {
   "cell_type": "markdown",
   "id": "900e1509",
   "metadata": {},
   "source": [
    "## Searching: Looking for an element in a list\n",
    "- Generally, if the element is found then, it's index is returned\n",
    "- Generally, if the index is NOT found, then -1 is returned"
   ]
  },
  {
   "cell_type": "code",
   "execution_count": 3,
   "id": "a52ed61b",
   "metadata": {},
   "outputs": [
    {
     "name": "stdout",
     "output_type": "stream",
     "text": [
      "Check if 1 present in list [9, 8, 5, 4, 1, 0]: -> 4\n",
      "Check if 1 present in list [1, 2, 3, 4, 5]: -> -1\n"
     ]
    }
   ],
   "source": [
    "## Linear Search\n",
    "def linear_search(a: list, target: int):\n",
    "    for index, elem in enumerate(a):\n",
    "        if elem == target:\n",
    "            return index\n",
    "    \n",
    "    return -1\n",
    "\n",
    "# Examples\n",
    "print(f\"Check if 1 present in list [9, 8, 5, 4, 1, 0]: -> {linear_search([9, 8, 5, 4, 1, 0], 1)}\")\n",
    "print(f\"Check if 1 present in list [1, 2, 3, 4, 5]: -> {linear_search([1, 2, 3, 4, 5], 9)}\")"
   ]
  },
  {
   "cell_type": "markdown",
   "id": "9ff1f9d7",
   "metadata": {},
   "source": [
    "### Binary Search\n",
    "- Idea is of divide and conquer\n",
    "- Remeber we have 3 pointers to track indexes:\n",
    "    - start: at the start of the list\n",
    "    - end: at the end of the list\n",
    "    - mid: middle of the list -> (start+end)//2\n",
    "- Compare th target with mid,\n",
    "    - If mid > target, then element is present in left hand side (update end to mid)\n",
    "    - If mid < target, then element is present in right hand side (update start to mid)\n",
    "    - If mid == target, then send mid's index and break\n",
    "    "
   ]
  },
  {
   "cell_type": "code",
   "execution_count": null,
   "id": "9cd7733b",
   "metadata": {},
   "outputs": [],
   "source": [
    "def binary_Search(a: list, target: int):\n",
    "    "
   ]
  },
  {
   "cell_type": "code",
   "execution_count": null,
   "id": "b935f037",
   "metadata": {},
   "outputs": [],
   "source": []
  },
  {
   "cell_type": "code",
   "execution_count": null,
   "id": "e5fe4b78",
   "metadata": {},
   "outputs": [],
   "source": []
  }
 ],
 "metadata": {
  "kernelspec": {
   "display_name": "Python 3 (ipykernel)",
   "language": "python",
   "name": "python3"
  },
  "language_info": {
   "codemirror_mode": {
    "name": "ipython",
    "version": 3
   },
   "file_extension": ".py",
   "mimetype": "text/x-python",
   "name": "python",
   "nbconvert_exporter": "python",
   "pygments_lexer": "ipython3",
   "version": "3.11.3"
  }
 },
 "nbformat": 4,
 "nbformat_minor": 5
}

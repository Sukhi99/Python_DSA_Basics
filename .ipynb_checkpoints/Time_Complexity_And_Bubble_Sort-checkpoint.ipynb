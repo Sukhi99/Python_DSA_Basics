{
 "cells": [
  {
   "cell_type": "markdown",
   "id": "1614c48c",
   "metadata": {},
   "source": [
    "## Time Complexity\n",
    "\n",
    "- When we say my CPU is 2.5 GHz, it is nothing but telling the clock speed of the CPU. It is   essentially, operations/time, clock speed. \n",
    "\n",
    "- Everything is measured in terms of clock cycles. So, even the time complexity is measure w.r.t clock cycles. Therefore, if an Algo 'A' takes 4 clock cycles to complete then it will take 4 clock cycles to complete on old CPU and new CPU. \n",
    "\n",
    "- But, it seems to run faster on new CPU because the clock speed is faster and hence completes these 4 clock cycles faster for faster CPU compared to a slower CPU.\n",
    "\n",
    "- So, algorithm execution or time complexity is not measured as absolute time but w.r.t clock cycles\n",
    "\n",
    "### Big O: Notation:\n",
    "1. It is the worst case scenario that the algo takes for execution\n",
    "2. We are interested in trend, hence only the max. power of the cost function of time for algo is written\n",
    "3. Ex: if C(x) = x** 2 + x + c then O(x** 2)\n",
    "\n",
    "\n",
    "### Omega: Notation:\n",
    "1. It is the best case scenario that the algo takes for execution\n",
    "2. We are interested in trend, hence only the min. power of the cost function of time for algo is written\n",
    "3. Ex: if C(x) = x** 2 + x + c then omega(1)\n",
    "\n",
    "### Theta: Notation:\n",
    "1. It is the average case scenario that the algo takes for execution\n",
    "2. Foir data science, best case and worst case scenarios of time complexities is more than enough. But if you want avergae case complexity can be explored here:\n",
    "https://www.geeksforgeeks.org/types-of-asymptotic-notations-in-complexity-analysis-of-algorithms/\n"
   ]
  },
  {
   "cell_type": "markdown",
   "id": "56c64853",
   "metadata": {},
   "source": [
    "## Sorting - Bubble Sort\n",
    "\n",
    "- The idea of bubble sort:\n",
    "1. Two loops\n",
    "2. Compare each element\n",
    "3. Swap"
   ]
  },
  {
   "cell_type": "code",
   "execution_count": 29,
   "id": "2fb818e7",
   "metadata": {},
   "outputs": [
    {
     "name": "stdout",
     "output_type": "stream",
     "text": [
      "Value of i: 0\n",
      "Value of j: 0\n",
      "Value of j: 1\n",
      "Value of j: 2\n",
      "Value of j: 3\n",
      "Value of j: 4\n",
      "------------------------------\n",
      "Value of i: 1\n",
      "Value of j: 1\n",
      "Value of j: 2\n",
      "Value of j: 3\n",
      "Value of j: 4\n",
      "------------------------------\n",
      "Value of i: 2\n",
      "Value of j: 2\n",
      "Value of j: 3\n",
      "Value of j: 4\n",
      "------------------------------\n",
      "Value of i: 3\n",
      "Value of j: 3\n",
      "Value of j: 4\n",
      "------------------------------\n",
      "Value of i: 4\n",
      "Value of j: 4\n",
      "------------------------------\n",
      "Value of i: 5\n",
      "------------------------------\n"
     ]
    }
   ],
   "source": [
    "a = [5,1,2,4,7,3]\n",
    "\n",
    "## Working out the indexes iteration\n",
    "for i in range(len(a)):\n",
    "    print(f\"Value of i: {i}\")\n",
    "    for j in range(i,len(a)-1):\n",
    "        print(f\"Value of j: {j}\")\n",
    "     \n",
    "    print('-'*30)"
   ]
  },
  {
   "cell_type": "code",
   "execution_count": 23,
   "id": "f4c0ea72",
   "metadata": {},
   "outputs": [
    {
     "name": "stdout",
     "output_type": "stream",
     "text": [
      "The updated list after 0th iterations is: [3, 7, 8, 9, 1, 0, 6]\n",
      "The updated list after 1th iterations is: [3, 7, 8, 9, 1, 0, 6]\n",
      "The updated list after 2th iterations is: [3, 7, 8, 9, 1, 0, 6]\n",
      "The updated list after 3th iterations is: [3, 7, 8, 1, 9, 0, 6]\n",
      "The updated list after 4th iterations is: [3, 7, 8, 1, 0, 9, 6]\n",
      "The updated list after 5th iterations is: [3, 7, 8, 1, 0, 6, 9]\n",
      "------------------------------\n",
      "The updated list after 1th iterations is: [3, 7, 8, 1, 0, 6, 9]\n",
      "The updated list after 2th iterations is: [3, 7, 1, 8, 0, 6, 9]\n",
      "The updated list after 3th iterations is: [3, 7, 1, 0, 8, 6, 9]\n",
      "The updated list after 4th iterations is: [3, 7, 1, 0, 6, 8, 9]\n",
      "The updated list after 5th iterations is: [3, 7, 1, 0, 6, 8, 9]\n",
      "------------------------------\n",
      "The updated list after 2th iterations is: [3, 7, 0, 1, 6, 8, 9]\n",
      "The updated list after 3th iterations is: [3, 7, 0, 1, 6, 8, 9]\n",
      "The updated list after 4th iterations is: [3, 7, 0, 1, 6, 8, 9]\n",
      "The updated list after 5th iterations is: [3, 7, 0, 1, 6, 8, 9]\n",
      "------------------------------\n",
      "The updated list after 3th iterations is: [3, 7, 0, 1, 6, 8, 9]\n",
      "The updated list after 4th iterations is: [3, 7, 0, 1, 6, 8, 9]\n",
      "The updated list after 5th iterations is: [3, 7, 0, 1, 6, 8, 9]\n",
      "------------------------------\n",
      "The updated list after 4th iterations is: [3, 7, 0, 1, 6, 8, 9]\n",
      "The updated list after 5th iterations is: [3, 7, 0, 1, 6, 8, 9]\n",
      "------------------------------\n",
      "The updated list after 5th iterations is: [3, 7, 0, 1, 6, 8, 9]\n",
      "------------------------------\n",
      "------------------------------\n"
     ]
    }
   ],
   "source": [
    "a = [5,1,2,4,7,3]\n",
    "\n",
    "## Actual Bubble Sort \n",
    "for i in range(len(a)):\n",
    "    for j in range(i,len(a)-1):\n",
    "        if a[j] > a[j+1]:\n",
    "#             Python Cool Swapping\n",
    "            a[j],a[j+1] = a[j+1],a[j]\n",
    "#             traditional swapping procedure\n",
    "#             temp = a[j]\n",
    "#             a[j] = a[j+1]\n",
    "#             a[j+1] = temp\n",
    "        print(f\"The updated list after {j}th iterations is: {a}\")\n",
    "     \n",
    "    print('-'*30)"
   ]
  },
  {
   "cell_type": "code",
   "execution_count": 22,
   "id": "a36e2c4c",
   "metadata": {},
   "outputs": [
    {
     "data": {
      "text/plain": [
       "[3, 7, 0, 1, 6, 8, 9]"
      ]
     },
     "execution_count": 22,
     "metadata": {},
     "output_type": "execute_result"
    }
   ],
   "source": [
    "## Defining a function for bubble sort\n",
    "def bubble_sort(a):\n",
    "    for i in range(len(a)):\n",
    "        for j in range(i,len(a)-1):\n",
    "            if a[j] > a[j+1]:\n",
    "                a[j],a[j+1] = a[j+1],a[j]\n",
    "    return a\n",
    "\n",
    "## Trick Questions - The above does not work for the below list\n",
    "bubble_sort([3,7,8,9,1,0,6])"
   ]
  },
  {
   "cell_type": "markdown",
   "id": "6d9df1a7",
   "metadata": {},
   "source": [
    "## Fix/Solution\n",
    "- When the list has elements which can come to 1st position or lowest value in far right then the above function fails\n",
    "- Reason for failure is, the outer loop moves but the inner loop starts from ith position, meaning it does not check the elements before ith position\n",
    "- Fix: The inner loop should start from 0th position no matter where the i (outer loop) iterator is (len(a) - 1)\n",
    "- Efficient piece: Also, after 1st iteration, the max item will be far right, after 2nd iteration the 2nd max value will be on it's position as well, and so on... Meaning the j need not go till last for comparision, it can stop i steps before hence, (len(a) - 1) - i"
   ]
  },
  {
   "cell_type": "code",
   "execution_count": 30,
   "id": "0c4a2617",
   "metadata": {},
   "outputs": [
    {
     "name": "stdout",
     "output_type": "stream",
     "text": [
      "The list [3,7,8,9,1,0,6] is sorted to: [0, 1, 3, 6, 7, 8, 9]\n",
      "The list [5,1,2,4,7,3] is sorted to: [1, 2, 3, 4, 5, 7]\n",
      "The list [9,8,7,6,5,4,3,2,1] is sorted to: [1, 2, 3, 4, 5, 6, 7, 8, 9]\n"
     ]
    }
   ],
   "source": [
    "## Defining the CORRECT function for bubble sort\n",
    "def bubble_sort(a):\n",
    "    for i in range(len(a)):\n",
    "        for j in range(len(a)-i-1): # the starting of inner loop is from 0th position instead of ith position, and stop i elements before the last element\n",
    "            if a[j] > a[j+1]:\n",
    "                a[j],a[j+1] = a[j+1],a[j]\n",
    "    return a\n",
    "\n",
    "## Trick Question - Works correctly now\n",
    "print(f\"The list [3,7,8,9,1,0,6] is sorted to: {bubble_sort([3,7,8,9,1,0,6])}\")\n",
    "print(f\"The list [5,1,2,4,7,3] is sorted to: {bubble_sort([5,1,2,4,7,3])}\")\n",
    "print(f\"The list [9,8,7,6,5,4,3,2,1] is sorted to: {bubble_sort([9,8,7,6,5,4,3,2,1])}\")"
   ]
  },
  {
   "cell_type": "markdown",
   "id": "109ca306",
   "metadata": {},
   "source": [
    "### The time complexity for the above is \n",
    "- O(n^2)\n",
    "- Omega(n^2)\n",
    "\n",
    "- Explanation: It is nested loops meaning it will run and there is no such condition where the \n",
    "best case scenario is better than worst case scenario\n",
    "\n",
    "#### **Query -> Improve this bubble_sort function such that the best case scenario is Omega(n) \n"
   ]
  },
  {
   "cell_type": "code",
   "execution_count": 32,
   "id": "e0ffbdbe",
   "metadata": {},
   "outputs": [
    {
     "name": "stdout",
     "output_type": "stream",
     "text": [
      "The list [3,7,8,9,1,0,6] is sorted to: [0, 1, 3, 6, 7, 8, 9]\n",
      "The list [5,1,2,4,7,3] is sorted to: [1, 2, 3, 4, 5, 7]\n",
      "The list [9,8,7,6,5,4,3,2,1] is sorted to: [1, 2, 3, 4, 5, 6, 7, 8, 9]\n"
     ]
    }
   ],
   "source": [
    "\"\"\"\n",
    "The optimization is w.r.t a condition when sorting only 1 or 2 or less than n times\n",
    "the list is sorted.\n",
    "Hence, is_sorted <- flag is used to keep track of the sorted, if the list becomes sorted \n",
    "on only a few iterations of the inner loop then break \n",
    "\"\"\"\n",
    "\n",
    "## Defining the OPTIMISED CORRECT function for bubble sort\n",
    "def optimised_bubble_sort(a):\n",
    "    is_sorted = True\n",
    "    for i in range(len(a)):\n",
    "        for j in range(len(a)-i-1): # the starting of inner loop is from 0th position instead of ith position, and stop i elements before the last element\n",
    "            if a[j] > a[j+1]:\n",
    "                a[j],a[j+1] = a[j+1],a[j]\n",
    "                is_sorted = False\n",
    "        if is_sorted:\n",
    "            break\n",
    "    return a\n",
    "\n",
    "## Examples:\n",
    "print(f\"The list [3,7,8,9,1,0,6] is sorted to: {optimised_bubble_sort([3,7,8,9,1,0,6])}\")\n",
    "print(f\"The list [5,1,2,4,7,3] is sorted to: {optimised_bubble_sort([5,1,2,4,7,3])}\")\n",
    "print(f\"The list [9,8,7,6,5,4,3,2,1] is sorted to: {optimised_bubble_sort([9,8,7,6,5,4,3,2,1])}\")"
   ]
  },
  {
   "cell_type": "code",
   "execution_count": null,
   "id": "184d6aa4",
   "metadata": {},
   "outputs": [],
   "source": [
    "\"\"\"\n",
    "Best case scenario -> Omega(n)\n",
    "Worst case scenario -> O(n^2) (No Change with Optimization)\n",
    "\"\"\""
   ]
  },
  {
   "cell_type": "code",
   "execution_count": null,
   "id": "8d47af53",
   "metadata": {},
   "outputs": [],
   "source": []
  }
 ],
 "metadata": {
  "kernelspec": {
   "display_name": "Python 3 (ipykernel)",
   "language": "python",
   "name": "python3"
  },
  "language_info": {
   "codemirror_mode": {
    "name": "ipython",
    "version": 3
   },
   "file_extension": ".py",
   "mimetype": "text/x-python",
   "name": "python",
   "nbconvert_exporter": "python",
   "pygments_lexer": "ipython3",
   "version": "3.11.3"
  }
 },
 "nbformat": 4,
 "nbformat_minor": 5
}

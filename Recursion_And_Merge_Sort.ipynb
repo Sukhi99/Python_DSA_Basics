{
 "cells": [
  {
   "cell_type": "markdown",
   "id": "3c1e24dd",
   "metadata": {},
   "source": [
    "## Recursion\n",
    "\n",
    "- Calling a function from inside of itself\n",
    "- Ex: def foo():\n",
    "        ------\n",
    "        ------\n",
    "        ------\n",
    "        foo()\n",
    "- The recusion has two main components:\n",
    "    - Recursive Formula -> Based on which we will call function fron inside itself\n",
    "    - Base Condition -> Based on this we will stop the recursion, else it will become infinite\n",
    "    \n",
    "- Ex: Factorial:\n",
    "    - n! = n * (n-1) * (n-2) * ... * ..0!  <-- Recurisve Formula\n",
    "    - 0! = 1 or 1! = 1 <- Base Condition (To stop)\n"
   ]
  },
  {
   "cell_type": "code",
   "execution_count": 4,
   "id": "be5b2ea7",
   "metadata": {},
   "outputs": [
    {
     "name": "stdout",
     "output_type": "stream",
     "text": [
      "The factorial of 3 is: 6\n",
      "The factorial of 5 is: 120\n",
      "The factorial of 11 is: 39916800\n"
     ]
    }
   ],
   "source": [
    "## Trying out first try\n",
    "def myfactorial(n):\n",
    "    if n == 1 or n == 0:\n",
    "        fact = 1\n",
    "    else:\n",
    "        fact = n* myfactorial(n-1)\n",
    "    \n",
    "    return fact\n",
    "\n",
    "#Example\n",
    "print(f\"The factorial of 3 is: {myfactorial(3)}\")\n",
    "print(f\"The factorial of 5 is: {myfactorial(5)}\")\n",
    "print(f\"The factorial of 11 is: {myfactorial(11)}\")"
   ]
  },
  {
   "cell_type": "markdown",
   "id": "f50b33f6",
   "metadata": {},
   "source": [
    "### How Recursion works internally\n",
    "- The recursion internally uses the stack - LIFO\n",
    "- Last in First Out \n",
    "- For factorial(3): The stack looks like:\n",
    "    - factorial(0)\n",
    "    - factorial(1)\n",
    "    - factorial(2)\n",
    "    - factorial(3)\n",
    "- The last one in is factorial(0) = 1 which is then removed from stack and the function factorial(1) is executed which is 1 * factorial(0) = 1, and so on"
   ]
  },
  {
   "cell_type": "code",
   "execution_count": 7,
   "id": "f407446c",
   "metadata": {},
   "outputs": [
    {
     "name": "stdout",
     "output_type": "stream",
     "text": [
      "The factorial of 3 is: 6\n",
      "The factorial of 5 is: 120\n",
      "The factorial of 11 is: 39916800\n"
     ]
    },
    {
     "ename": "Exception",
     "evalue": "Factorial of a negative number is not defined!",
     "output_type": "error",
     "traceback": [
      "\u001b[1;31m---------------------------------------------------------------------------\u001b[0m",
      "\u001b[1;31mException\u001b[0m                                 Traceback (most recent call last)",
      "Cell \u001b[1;32mIn[7], line 20\u001b[0m\n\u001b[0;32m     18\u001b[0m \u001b[38;5;28mprint\u001b[39m(\u001b[38;5;124mf\u001b[39m\u001b[38;5;124m\"\u001b[39m\u001b[38;5;124mThe factorial of 5 is: \u001b[39m\u001b[38;5;132;01m{\u001b[39;00mfactorial(\u001b[38;5;241m5\u001b[39m)\u001b[38;5;132;01m}\u001b[39;00m\u001b[38;5;124m\"\u001b[39m)\n\u001b[0;32m     19\u001b[0m \u001b[38;5;28mprint\u001b[39m(\u001b[38;5;124mf\u001b[39m\u001b[38;5;124m\"\u001b[39m\u001b[38;5;124mThe factorial of 11 is: \u001b[39m\u001b[38;5;132;01m{\u001b[39;00mfactorial(\u001b[38;5;241m11\u001b[39m)\u001b[38;5;132;01m}\u001b[39;00m\u001b[38;5;124m\"\u001b[39m)\n\u001b[1;32m---> 20\u001b[0m \u001b[38;5;28mprint\u001b[39m(\u001b[38;5;124mf\u001b[39m\u001b[38;5;124m\"\u001b[39m\u001b[38;5;124mThe factorial of -100 is: \u001b[39m\u001b[38;5;132;01m{\u001b[39;00mfactorial(\u001b[38;5;241m-\u001b[39m\u001b[38;5;241m100\u001b[39m)\u001b[38;5;132;01m}\u001b[39;00m\u001b[38;5;124m\"\u001b[39m)\n",
      "Cell \u001b[1;32mIn[7], line 5\u001b[0m, in \u001b[0;36mfactorial\u001b[1;34m(n)\u001b[0m\n\u001b[0;32m      3\u001b[0m \u001b[38;5;28;01mdef\u001b[39;00m \u001b[38;5;21mfactorial\u001b[39m(n):\n\u001b[0;32m      4\u001b[0m     \u001b[38;5;28;01mif\u001b[39;00m n \u001b[38;5;241m<\u001b[39m \u001b[38;5;241m0\u001b[39m:\n\u001b[1;32m----> 5\u001b[0m         \u001b[38;5;28;01mraise\u001b[39;00m \u001b[38;5;167;01mException\u001b[39;00m(\u001b[38;5;124m\"\u001b[39m\u001b[38;5;124mFactorial of a negative number is not defined!\u001b[39m\u001b[38;5;124m\"\u001b[39m)\n\u001b[0;32m      7\u001b[0m     \u001b[38;5;28;01melif\u001b[39;00m n \u001b[38;5;241m==\u001b[39m \u001b[38;5;241m0\u001b[39m:\n\u001b[0;32m      8\u001b[0m         \u001b[38;5;28;01mreturn\u001b[39;00m \u001b[38;5;241m1\u001b[39m\n",
      "\u001b[1;31mException\u001b[0m: Factorial of a negative number is not defined!"
     ]
    }
   ],
   "source": [
    "## Better version of the factorial function\n",
    "\n",
    "def factorial(n):\n",
    "    if n < 0:\n",
    "        raise Exception(\"Factorial of a negative number is not defined!\")\n",
    "    \n",
    "    elif n == 0:\n",
    "        return 1\n",
    "    \n",
    "    else:\n",
    "        fact = factorial(n-1)\n",
    "    \n",
    "    return n * fact\n",
    "\n",
    "#Example\n",
    "\n",
    "print(f\"The factorial of 3 is: {factorial(3)}\")\n",
    "print(f\"The factorial of 5 is: {factorial(5)}\")\n",
    "print(f\"The factorial of 11 is: {factorial(11)}\")\n",
    "print(f\"The factorial of -100 is: {factorial(-100)}\")"
   ]
  },
  {
   "cell_type": "markdown",
   "id": "c676474a",
   "metadata": {},
   "source": [
    "## Merge Sort\n",
    "- The idea is to divide and conquer\n",
    "- Split the list into two parts:\n",
    "    - left\n",
    "    - right\n",
    "- Keep halving it till single element lists are not achieved\n",
    "- Then keep sorting these lists such that lower value is added first and the the higher value element\n",
    "- Keep joining back the lists\n",
    "\n",
    "### Time Complexity\n",
    "- O(nlogn)\n",
    "\n",
    "### Best written with recursion\n",
    "- Recursion Formula: Keep splitting the list into half (left & right parts)\n",
    "- Base Consition: If the list has only 1 element then it is the smallest\n",
    "- Merging back the lists"
   ]
  },
  {
   "cell_type": "code",
   "execution_count": 11,
   "id": "4ffcf299",
   "metadata": {},
   "outputs": [
    {
     "name": "stdout",
     "output_type": "stream",
     "text": [
      "The list [3,7,8,9,1,0,6] is sorted to: [0, 1, 3, 6, 7, 8, 9]\n",
      "The list [5,1,2,4,7,3] is sorted to: [1, 2, 3, 4, 5, 7]\n",
      "The list [9,8,7,6,5,4,3,2,1] is sorted to: [1, 2, 3, 4, 5, 6, 7, 8, 9]\n"
     ]
    }
   ],
   "source": [
    "## Trying out\n",
    "def merge_sort(a):\n",
    "    #Base Condition\n",
    "    if len(a) <= 1:\n",
    "        return a\n",
    "    \n",
    "    #Recursive Formula\n",
    "    n = len(a)\n",
    "    left = merge_sort(a[:n//2])\n",
    "    right = merge_sort(a[n//2:])\n",
    "    \n",
    "    i,j = 0,0\n",
    "    result = []\n",
    "    \n",
    "    #Merging Back\n",
    "    while i < len(left) and j < len(right):\n",
    "        if left[i] <= right[j]:\n",
    "            result.append(left[i])\n",
    "            i += 1\n",
    "        else:\n",
    "            result.append(right[j])\n",
    "            j += 1\n",
    "            \n",
    "    if i < len(left):\n",
    "        result += left[i:] \n",
    "    elif j < len(right):\n",
    "        result += right[j:]\n",
    "    \n",
    "    return result\n",
    "        \n",
    "## Examples\n",
    "print(f\"The list [3,7,8,9,1,0,6] is sorted to: {merge_sort([3,7,8,9,1,0,6])}\")\n",
    "print(f\"The list [5,1,2,4,7,3] is sorted to: {merge_sort([5,1,2,4,7,3])}\")\n",
    "print(f\"The list [9,8,7,6,5,4,3,2,1] is sorted to: {merge_sort([9,8,7,6,5,4,3,2,1])}\")            \n",
    "        "
   ]
  },
  {
   "cell_type": "markdown",
   "id": "a739b571",
   "metadata": {},
   "source": [
    "### Trick Question:\n",
    "- Modify the merge sort such that it accepts a key and sorts based on it"
   ]
  },
  {
   "cell_type": "code",
   "execution_count": null,
   "id": "76295827",
   "metadata": {},
   "outputs": [],
   "source": [
    "\"\"\"\n",
    "student = [\n",
    "    {'name': 'A', 'marks': 90},\n",
    "    {'name': 'B', 'marks': 80},\n",
    "    {'name': 'C', 'marks': 30},\n",
    "    {'name': 'D', 'marks': 50},\n",
    "    {'name': 'E', 'marks': 20},\n",
    "]\n",
    "\"\"\""
   ]
  },
  {
   "cell_type": "code",
   "execution_count": null,
   "id": "fe1898bf",
   "metadata": {},
   "outputs": [],
   "source": []
  },
  {
   "cell_type": "code",
   "execution_count": null,
   "id": "9c7db08a",
   "metadata": {},
   "outputs": [],
   "source": []
  },
  {
   "cell_type": "markdown",
   "id": "a736d7ad",
   "metadata": {},
   "source": [
    "### Question Practice: \n",
    "- Input is a list and we need to perform operations and give the output as list\n",
    "- Operations to be performed:\n",
    "    - Select the first element of input list in output list\n",
    "    - Move the 2nd element of input list to the last of input list\n",
    "    - Keep doing till the end of input list\n",
    "- Ex: inp_lst = [1, 2, 3, 4, 5]\n",
    "    - 1st iter: \n",
    "        - inp_lst = [3, 4, 5, 2]\n",
    "        - out_lst = [1]\n",
    "    \n",
    "    - 2nd iter: \n",
    "        - inp_lst[5, 2, 4]\n",
    "        - out_lst = [1, 3]\n",
    "    \n",
    "    - 3rd iter: \n",
    "        - inp_lst = [4, 2]\n",
    "        - out_lst = [1, 3, 5]\n",
    "    \n",
    "    - 4th iter: \n",
    "        - inp_lst[2]\n",
    "        - out_lst = [1, 3, 5, 4]\n",
    "    \n",
    "    - 5th iter: \n",
    "        - inp_lst[]\n",
    "        - out_lst = [1, 3, 5, 4, 2]\n",
    "               "
   ]
  },
  {
   "cell_type": "code",
   "execution_count": 14,
   "id": "311f0fb2",
   "metadata": {},
   "outputs": [
    {
     "name": "stdout",
     "output_type": "stream",
     "text": [
      "lst is: [1, 2, 3, 4, 5]\n",
      "recursive call to: [3, 4, 5, 2]\n",
      "lst is: [3, 4, 5, 2]\n",
      "recursive call to: [5, 2, 4]\n",
      "lst is: [5, 2, 4]\n",
      "recursive call to: [4, 2]\n",
      "lst is: [4, 2]\n",
      "recursive call to: [2]\n",
      "lst is: [2]\n"
     ]
    },
    {
     "data": {
      "text/plain": [
       "'\\nObservations:\\n- The recursive calls are correct\\n- The base condition is also working fine\\n- The output list is not being formed, result not doing what I thought it would do\\n'"
      ]
     },
     "execution_count": 14,
     "metadata": {},
     "output_type": "execute_result"
    }
   ],
   "source": [
    "\"\"\"\n",
    "Thoughts while solving:\n",
    "- Can be solved using recursion:\n",
    "    - Recursion Formula: something(a[1:])\n",
    "    - Base Condition: len(a) == 1, return a[0]\n",
    "- Can be solved using loops as well: use while loop while len(a) == 0\n",
    "\n",
    "\"\"\" \n",
    "\n",
    "a = [1, 2, 3, 4, 5]\n",
    "\n",
    "def solve(lst):\n",
    "    result = []\n",
    "    print(f\"lst is: {lst}\")\n",
    "    # Base Condition\n",
    "    if len(lst) == 1:\n",
    "        result = lst\n",
    "    \n",
    "    #Modify the list\n",
    "    else:\n",
    "        print(f\"recursive call to: {lst[2:]+[lst[1]]}\")\n",
    "        result += solve(lst[2:]+[lst[1]])\n",
    "    \n",
    "    return result\n",
    "        \n",
    "res = solve(a)       \n",
    "    \n",
    "\"\"\"\n",
    "Observations:\n",
    "- The recursive calls are correct\n",
    "- The base condition is also working fine\n",
    "- The output list is not being formed, result not doing what I thought it would do\n",
    "\"\"\"\n"
   ]
  },
  {
   "cell_type": "code",
   "execution_count": 17,
   "id": "a0499bf6",
   "metadata": {},
   "outputs": [
    {
     "name": "stdout",
     "output_type": "stream",
     "text": [
      "lst is: [1, 2, 3, 4, 5]\n",
      "Result: []\n",
      "recursive call to: [3, 4, 5, 2]\n",
      "lst is: [3, 4, 5, 2]\n",
      "Result: []\n",
      "recursive call to: [5, 2, 4]\n",
      "lst is: [5, 2, 4]\n",
      "Result: []\n",
      "recursive call to: [4, 2]\n",
      "lst is: [4, 2]\n",
      "Result: []\n",
      "recursive call to: [2]\n",
      "lst is: [2]\n",
      "Final output list is: [1, 3, 5, 4, 2]\n"
     ]
    }
   ],
   "source": [
    "## My solution - Not efficient but my own\n",
    "a = [1, 2, 3, 4, 5]\n",
    "\n",
    "def solve(lst):\n",
    "    result = []\n",
    "    print(f\"lst is: {lst}\")\n",
    "    \n",
    "    # Base Condition\n",
    "    if len(lst) == 1:\n",
    "        result = lst\n",
    "    \n",
    "    #Modify the list\n",
    "    else:\n",
    "        print(f\"Result: {result}\")\n",
    "        result += [lst[0]]\n",
    "        print(f\"recursive call to: {lst[2:]+[lst[1]]}\")\n",
    "        result += solve(lst[2:]+[lst[1]])\n",
    "        \n",
    "    \n",
    "    return result\n",
    "        \n",
    "res = solve(a)\n",
    "print(f\"Final output list is: {res}\")"
   ]
  },
  {
   "cell_type": "markdown",
   "id": "232fec3e",
   "metadata": {},
   "source": [
    "### Better Solution\n",
    "- If you look at the pattern it is:\n",
    "    - The elements at odd positions are clubbed together and printed (even indexes)"
   ]
  },
  {
   "cell_type": "code",
   "execution_count": 23,
   "id": "83555e99",
   "metadata": {},
   "outputs": [
    {
     "name": "stdout",
     "output_type": "stream",
     "text": [
      "The list [1, 2, 3, 4, 5] yields Final output list as: [1, 3, 5, 2, 4]\n",
      "The list [1, 2, 3, 4, 5, 6] yields Final output list as: [1, 3, 5, 2, 6, 4]\n"
     ]
    }
   ],
   "source": [
    "## Smart Solution - But has a flaw and will not work on odd number of lists\n",
    "## Idea is to look for patterns\n",
    "a = [1, 2, 3, 4, 5]\n",
    "\n",
    "def smart_solve(a):\n",
    "    if len(a) == 1:\n",
    "        return a\n",
    "    \n",
    "    result = a[::2]\n",
    "    \n",
    "    return result + smart_solve(a[1::2])\n",
    "\n",
    "print(f\"The list [1, 2, 3, 4, 5] yields Final output list as: {smart_solve([1, 2, 3, 4, 5])}\")\n",
    "print(f\"The list [1, 2, 3, 4, 5, 6] yields Final output list as: {smart_solve([1, 2, 3, 4, 5,6])}\")"
   ]
  },
  {
   "cell_type": "code",
   "execution_count": null,
   "id": "21e4b139",
   "metadata": {},
   "outputs": [],
   "source": []
  }
 ],
 "metadata": {
  "kernelspec": {
   "display_name": "Python 3 (ipykernel)",
   "language": "python",
   "name": "python3"
  },
  "language_info": {
   "codemirror_mode": {
    "name": "ipython",
    "version": 3
   },
   "file_extension": ".py",
   "mimetype": "text/x-python",
   "name": "python",
   "nbconvert_exporter": "python",
   "pygments_lexer": "ipython3",
   "version": "3.11.3"
  }
 },
 "nbformat": 4,
 "nbformat_minor": 5
}
